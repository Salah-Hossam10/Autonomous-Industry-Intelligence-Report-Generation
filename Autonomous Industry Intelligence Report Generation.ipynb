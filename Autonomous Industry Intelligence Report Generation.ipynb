{
  "nbformat": 4,
  "nbformat_minor": 0,
  "metadata": {
    "colab": {
      "provenance": []
    },
    "kernelspec": {
      "name": "python3",
      "display_name": "Python 3"
    },
    "language_info": {
      "name": "python"
    }
  },
  "cells": [
    {
      "cell_type": "markdown",
      "source": [
        "# --------------------------------------------------\n",
        "# QUERY UNDERSTANDING\n",
        "# --------------------------------------------------"
      ],
      "metadata": {
        "id": "oWU2qqHblz6F"
      }
    },
    {
      "cell_type": "code",
      "source": [
        "# Prompt user to enter the query dynamically\n",
        "# Ex: Generate a strategy intelligence report for the electric vehicle market and its key players\n",
        "query = input(\"Please enter your query: \")"
      ],
      "metadata": {
        "colab": {
          "base_uri": "https://localhost:8080/"
        },
        "id": "JdkuyxKgp0fx",
        "outputId": "7e01130c-a045-4e77-b47d-0879edffdbf2"
      },
      "execution_count": 79,
      "outputs": [
        {
          "name": "stdout",
          "output_type": "stream",
          "text": [
            "Please enter your query: Generate a strategy intelligence report for the electric vehicle market and its key players\n"
          ]
        }
      ]
    },
    {
      "cell_type": "code",
      "source": [
        "# Define keyword-based industry mapping with sector-specific company lists\n",
        "industry_keywords = {\n",
        "    \"electric vehicle\": [\"Tesla, Inc.\", \"Rivian Automotive, Inc.\", \"Lucid Group, Inc.\", \"NIO Inc.\"],\n",
        "    \"technology\": [\"Apple Inc.\", \"Microsoft Corporation\", \"Alphabet Inc.\", \"Amazon.com, Inc.\", \"Meta Platforms, Inc.\", \"NVIDIA Corporation\", \"Tesla, Inc.\"],\n",
        "    \"pharmaceutical\": [\"Pfizer Inc.\", \"Moderna, Inc.\", \"Johnson & Johnson\", \"AstraZeneca\", \"Bristol-Myers Squibb\"],\n",
        "    \"cloud computing\": [\"Amazon Web Services\", \"Microsoft Azure\", \"Google Cloud\", \"IBM Cloud\", \"Salesforce\"],\n",
        "}"
      ],
      "metadata": {
        "id": "FE2g6eI-l6YW"
      },
      "execution_count": 80,
      "outputs": []
    },
    {
      "cell_type": "code",
      "source": [
        "# Determine which sector to report on based on the query\n",
        "selected_companies = []\n",
        "for keyword, companies in industry_keywords.items():\n",
        "    if keyword in query.lower():\n",
        "        selected_companies = companies\n",
        "        selected_sector = keyword.title()\n",
        "        break"
      ],
      "metadata": {
        "id": "q7CeVIOYl816"
      },
      "execution_count": 81,
      "outputs": []
    },
    {
      "cell_type": "code",
      "source": [
        "# Raise error if query doesn't match known sectors\n",
        "if not selected_companies:\n",
        "    raise ValueError(\"Error: No matching sector found for the query. Please refine your input.\")"
      ],
      "metadata": {
        "id": "D-HSCocVl_GY"
      },
      "execution_count": 82,
      "outputs": []
    },
    {
      "cell_type": "code",
      "source": [
        "# Ticker symbol mapping for all supported companies\n",
        "# This is used to fetch financial data via Yahoo Finance (yfinance)\n",
        "ticker_map = {\n",
        "    \"Tesla, Inc.\": \"TSLA\",\n",
        "    \"Rivian Automotive, Inc.\": \"RIVN\",\n",
        "    \"Lucid Group, Inc.\": \"LCID\",\n",
        "    \"NIO Inc.\": \"NIO\",\n",
        "    \"Apple Inc.\": \"AAPL\",\n",
        "    \"Microsoft Corporation\": \"MSFT\",\n",
        "    \"Alphabet Inc.\": \"GOOGL\",\n",
        "    \"Amazon.com, Inc.\": \"AMZN\",\n",
        "    \"Meta Platforms, Inc.\": \"META\",\n",
        "    \"NVIDIA Corporation\": \"NVDA\",\n",
        "    \"Pfizer Inc.\": \"PFE\",\n",
        "    \"Moderna, Inc.\": \"MRNA\",\n",
        "    \"Johnson & Johnson\": \"JNJ\",\n",
        "    \"AstraZeneca\": \"AZN\",\n",
        "    \"Bristol-Myers Squibb\": \"BMY\",\n",
        "    \"Amazon Web Services\": \"AMZN\",\n",
        "    \"Microsoft Azure\": \"MSFT\",\n",
        "    \"Google Cloud\": \"GOOGL\",\n",
        "    \"IBM Cloud\": \"IBM\",\n",
        "    \"Salesforce\": \"CRM\"\n",
        "}"
      ],
      "metadata": {
        "id": "2as-HU9BnVtb"
      },
      "execution_count": 83,
      "outputs": []
    },
    {
      "cell_type": "markdown",
      "source": [
        "# --------------------------------------------------\n",
        "# DATA ACQUISITION\n",
        "# --------------------------------------------------"
      ],
      "metadata": {
        "id": "ofAGI3_RmBs3"
      }
    },
    {
      "cell_type": "code",
      "source": [
        "# Import necessary libraries for scraping, finance data, and visualization\n",
        "import requests\n",
        "from bs4 import BeautifulSoup\n",
        "import datetime\n",
        "import matplotlib.pyplot as plt\n",
        "import yfinance as yf"
      ],
      "metadata": {
        "id": "cwMZULCzmBFe"
      },
      "execution_count": 84,
      "outputs": []
    },
    {
      "cell_type": "code",
      "source": [
        "# Initialize storage for company data\n",
        "all_data = []"
      ],
      "metadata": {
        "id": "xUSp_Z1fmFUD"
      },
      "execution_count": 85,
      "outputs": []
    },
    {
      "cell_type": "code",
      "source": [
        "# Fetch data for each selected company\n",
        "for company in selected_companies:\n",
        "    # Generate URL slug from company name to fetch data from companiesmarketcap.com\n",
        "    search_name = company.replace(\", Inc.\", \"\").replace(\".com\", \"\").replace(\" \", \"-\").replace(\",\", \"\").lower()\n",
        "    url = f\"https://companiesmarketcap.com/{search_name}/marketcap/\"\n",
        "\n",
        "    # Send request to market cap website\n",
        "    r = requests.get(url)\n",
        "    soup = BeautifulSoup(r.text, 'html.parser')\n",
        "\n",
        "    # Try scraping the company data from the marketcap page\n",
        "    summary_box = soup.find(\"div\", class_=\"company-summary-box\")\n",
        "    price_tag = summary_box.find(string=lambda t: \"$\" in t) if summary_box else None\n",
        "    volume_tag = soup.find(string=lambda t: t and \"Volume\" in t)\n",
        "    marketcap_tag = summary_box.find(\"div\", class_=\"company-row\").text if summary_box else \"N/A\"\n",
        "\n",
        "    # Extract values or mark as N/A\n",
        "    price = price_tag.strip() if price_tag else \"N/A\"\n",
        "    volume = volume_tag.strip() if volume_tag else \"N/A\"\n",
        "    marketcap = marketcap_tag.strip() if marketcap_tag else \"N/A\"\n",
        "\n",
        "    # Fallback to Yahoo Finance if no data found or scraping fails\n",
        "    if price == \"N/A\" or volume == \"N/A\" or marketcap == \"N/A\":\n",
        "        ticker_symbol = ticker_map.get(company, None)\n",
        "        if ticker_symbol:\n",
        "            try:\n",
        "                ticker = yf.Ticker(ticker_symbol)\n",
        "                hist = ticker.history(period=\"1y\")\n",
        "                if not hist.empty:\n",
        "                    pct_change = ((hist['Close'][-1] - hist['Close'][0]) / hist['Close'][0]) * 100\n",
        "                    price = hist['Close'][-1]  # Last closing price\n",
        "                    volume = hist['Volume'][-1]  # Last volume\n",
        "                    marketcap = ticker.info.get(\"marketCap\", \"N/A\")\n",
        "                else:\n",
        "                    pct_change = 0.0\n",
        "                    price = \"N/A\"\n",
        "                    volume = \"N/A\"\n",
        "                    marketcap = \"N/A\"\n",
        "            except Exception as e:\n",
        "                pct_change = 0.0\n",
        "                price = \"N/A\"\n",
        "                volume = \"N/A\"\n",
        "                marketcap = \"N/A\"\n",
        "        else:\n",
        "            pct_change = 0.0\n",
        "\n",
        "    # Append structured data for reporting\n",
        "    all_data.append({\n",
        "        \"name\": company,\n",
        "        \"price\": price,\n",
        "        \"volume\": volume,\n",
        "        \"marketcap\": marketcap,\n",
        "        \"1yr_change\": round(pct_change, 2)\n",
        "    })"
      ],
      "metadata": {
        "colab": {
          "base_uri": "https://localhost:8080/"
        },
        "id": "15PKOtZzmHY4",
        "outputId": "836d988d-1377-4464-bada-c1bcfd9f04a9"
      },
      "execution_count": 86,
      "outputs": [
        {
          "output_type": "stream",
          "name": "stderr",
          "text": [
            "<ipython-input-86-271e40d64e66>:30: FutureWarning: Series.__getitem__ treating keys as positions is deprecated. In a future version, integer keys will always be treated as labels (consistent with DataFrame behavior). To access a value by position, use `ser.iloc[pos]`\n",
            "  pct_change = ((hist['Close'][-1] - hist['Close'][0]) / hist['Close'][0]) * 100\n",
            "<ipython-input-86-271e40d64e66>:31: FutureWarning: Series.__getitem__ treating keys as positions is deprecated. In a future version, integer keys will always be treated as labels (consistent with DataFrame behavior). To access a value by position, use `ser.iloc[pos]`\n",
            "  price = hist['Close'][-1]  # Last closing price\n",
            "<ipython-input-86-271e40d64e66>:32: FutureWarning: Series.__getitem__ treating keys as positions is deprecated. In a future version, integer keys will always be treated as labels (consistent with DataFrame behavior). To access a value by position, use `ser.iloc[pos]`\n",
            "  volume = hist['Volume'][-1]  # Last volume\n",
            "<ipython-input-86-271e40d64e66>:30: FutureWarning: Series.__getitem__ treating keys as positions is deprecated. In a future version, integer keys will always be treated as labels (consistent with DataFrame behavior). To access a value by position, use `ser.iloc[pos]`\n",
            "  pct_change = ((hist['Close'][-1] - hist['Close'][0]) / hist['Close'][0]) * 100\n",
            "<ipython-input-86-271e40d64e66>:31: FutureWarning: Series.__getitem__ treating keys as positions is deprecated. In a future version, integer keys will always be treated as labels (consistent with DataFrame behavior). To access a value by position, use `ser.iloc[pos]`\n",
            "  price = hist['Close'][-1]  # Last closing price\n",
            "<ipython-input-86-271e40d64e66>:32: FutureWarning: Series.__getitem__ treating keys as positions is deprecated. In a future version, integer keys will always be treated as labels (consistent with DataFrame behavior). To access a value by position, use `ser.iloc[pos]`\n",
            "  volume = hist['Volume'][-1]  # Last volume\n",
            "<ipython-input-86-271e40d64e66>:30: FutureWarning: Series.__getitem__ treating keys as positions is deprecated. In a future version, integer keys will always be treated as labels (consistent with DataFrame behavior). To access a value by position, use `ser.iloc[pos]`\n",
            "  pct_change = ((hist['Close'][-1] - hist['Close'][0]) / hist['Close'][0]) * 100\n",
            "<ipython-input-86-271e40d64e66>:31: FutureWarning: Series.__getitem__ treating keys as positions is deprecated. In a future version, integer keys will always be treated as labels (consistent with DataFrame behavior). To access a value by position, use `ser.iloc[pos]`\n",
            "  price = hist['Close'][-1]  # Last closing price\n",
            "<ipython-input-86-271e40d64e66>:32: FutureWarning: Series.__getitem__ treating keys as positions is deprecated. In a future version, integer keys will always be treated as labels (consistent with DataFrame behavior). To access a value by position, use `ser.iloc[pos]`\n",
            "  volume = hist['Volume'][-1]  # Last volume\n",
            "<ipython-input-86-271e40d64e66>:30: FutureWarning: Series.__getitem__ treating keys as positions is deprecated. In a future version, integer keys will always be treated as labels (consistent with DataFrame behavior). To access a value by position, use `ser.iloc[pos]`\n",
            "  pct_change = ((hist['Close'][-1] - hist['Close'][0]) / hist['Close'][0]) * 100\n",
            "<ipython-input-86-271e40d64e66>:31: FutureWarning: Series.__getitem__ treating keys as positions is deprecated. In a future version, integer keys will always be treated as labels (consistent with DataFrame behavior). To access a value by position, use `ser.iloc[pos]`\n",
            "  price = hist['Close'][-1]  # Last closing price\n",
            "<ipython-input-86-271e40d64e66>:32: FutureWarning: Series.__getitem__ treating keys as positions is deprecated. In a future version, integer keys will always be treated as labels (consistent with DataFrame behavior). To access a value by position, use `ser.iloc[pos]`\n",
            "  volume = hist['Volume'][-1]  # Last volume\n"
          ]
        }
      ]
    },
    {
      "cell_type": "markdown",
      "source": [
        "# --------------------------------------------------\n",
        "# DATA VISUALIZATION\n",
        "# --------------------------------------------------"
      ],
      "metadata": {
        "id": "G3GKqgMJmNgp"
      }
    },
    {
      "cell_type": "code",
      "source": [
        "# Prepare data for plotting\n",
        "names = [d['name'] for d in all_data]\n",
        "prices = [float(d['price']) if \"$\" in str(d['price']) else 0 for d in all_data]\n",
        "changes = [d['1yr_change'] for d in all_data]"
      ],
      "metadata": {
        "id": "2hNcV6ynmJpG"
      },
      "execution_count": 87,
      "outputs": []
    },
    {
      "cell_type": "code",
      "source": [
        "# Generate and save a bar chart of stock prices\n",
        "plt.figure(figsize=(10, 5))\n",
        "plt.bar(names, prices, color='skyblue')\n",
        "plt.title(f'Stock Prices of Key Players in {selected_sector} Sector')\n",
        "plt.xticks(rotation=45)\n",
        "plt.ylabel(\"Price (USD)\")\n",
        "plt.tight_layout()\n",
        "plt.close()"
      ],
      "metadata": {
        "id": "T99FAQhJmPrZ"
      },
      "execution_count": 88,
      "outputs": []
    },
    {
      "cell_type": "markdown",
      "source": [
        "# --------------------------------------------------\n",
        "# REPORT WRITING\n",
        "# --------------------------------------------------"
      ],
      "metadata": {
        "id": "P9BWyUm9mR51"
      }
    },
    {
      "cell_type": "code",
      "source": [
        "# Capture current date for the report\n",
        "today = datetime.date.today().strftime(\"%B %d, %Y\")"
      ],
      "metadata": {
        "id": "4QZDw_p6mRPP"
      },
      "execution_count": 89,
      "outputs": []
    },
    {
      "cell_type": "code",
      "source": [
        "# Print report structure\n",
        "print(\"=\" * 50)\n",
        "print(f\"INDUSTRY INTELLIGENCE REPORT: {selected_sector} Sector\")\n",
        "print(f\"Generated on: {today}\")\n",
        "print(\"=\" * 50)\n",
        "print(\"1. MARKET OVERVIEW\")\n",
        "print(\"-\" * 30)\n",
        "print(\"- Companies analyzed: \" + \", \".join(names))\n",
        "print()\n",
        "print(\"2. COMPETITOR ANALYSIS\")\n",
        "print(\"-\" * 30)\n",
        "for d in all_data:\n",
        "    print(f\"{d['name']}:\")\n",
        "    print(f\"  - Stock Price: {d['price']}\")\n",
        "    print(f\"  - Trading Volume: {d['volume']}\")\n",
        "    print(f\"  - Market Cap: {d['marketcap']}\")\n",
        "    print(f\"  - 1-Year Change: {d['1yr_change']}%\\n\")\n",
        "\n",
        "print(\"3. STRATEGIC RECOMMENDATIONS\")\n",
        "print(\"-\" * 30)\n",
        "print(\"1. Invest in companies with consistent 1-year growth and strong market capitalization.\")\n",
        "print(\"2. Diversify into newer entrants with high potential upside.\")\n",
        "print(\"3. Closely watch high-volume stocks for short-term opportunities.\")\n",
        "print(\"-\" * 30)\n",
        "print(\"END OF REPORT\")\n",
        "print(\"=\" * 50)"
      ],
      "metadata": {
        "colab": {
          "base_uri": "https://localhost:8080/"
        },
        "id": "CuurGLQImUy5",
        "outputId": "1895b03f-d9eb-4d0c-8cd4-79bd4c29243e"
      },
      "execution_count": 90,
      "outputs": [
        {
          "output_type": "stream",
          "name": "stdout",
          "text": [
            "==================================================\n",
            "INDUSTRY INTELLIGENCE REPORT: Electric Vehicle Sector\n",
            "Generated on: April 19, 2025\n",
            "==================================================\n",
            "1. MARKET OVERVIEW\n",
            "------------------------------\n",
            "- Companies analyzed: Tesla, Inc., Rivian Automotive, Inc., Lucid Group, Inc., NIO Inc.\n",
            "\n",
            "2. COMPETITOR ANALYSIS\n",
            "------------------------------\n",
            "Tesla, Inc.:\n",
            "  - Stock Price: 241.3699951171875\n",
            "  - Trading Volume: 83404800\n",
            "  - Market Cap: 776371372032\n",
            "  - 1-Year Change: 60.99%\n",
            "\n",
            "Rivian Automotive, Inc.:\n",
            "  - Stock Price: 11.600000381469727\n",
            "  - Trading Volume: 16103300\n",
            "  - Market Cap: 13116236800\n",
            "  - 1-Year Change: 31.37%\n",
            "\n",
            "Lucid Group, Inc.:\n",
            "  - Stock Price: 2.380000114440918\n",
            "  - Trading Volume: 68394700\n",
            "  - Market Cap: 7214970368\n",
            "  - 1-Year Change: -2.46%\n",
            "\n",
            "NIO Inc.:\n",
            "  - Stock Price: 3.5199999809265137\n",
            "  - Trading Volume: 23168700\n",
            "  - Market Cap: 7913453056\n",
            "  - 1-Year Change: -12.0%\n",
            "\n",
            "3. STRATEGIC RECOMMENDATIONS\n",
            "------------------------------\n",
            "1. Invest in companies with consistent 1-year growth and strong market capitalization.\n",
            "2. Diversify into newer entrants with high potential upside.\n",
            "3. Closely watch high-volume stocks for short-term opportunities.\n",
            "------------------------------\n",
            "END OF REPORT\n",
            "==================================================\n"
          ]
        }
      ]
    }
  ]
}